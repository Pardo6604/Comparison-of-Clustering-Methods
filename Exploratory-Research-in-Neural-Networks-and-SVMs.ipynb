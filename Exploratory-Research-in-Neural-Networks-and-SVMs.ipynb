{
 "cells": [
  {
   "cell_type": "markdown",
   "metadata": {},
   "source": [
    "# Exploratory-Research-in-Neural-Networks-and-SVMs\n",
    "### Author: Santiago Velasco (santidavid.velasco218@hotmail.com)"
   ]
  },
  {
   "cell_type": "code",
   "execution_count": null,
   "metadata": {},
   "outputs": [],
   "source": [
    "import numpy as np\n",
    "import pandas as pd\n",
    "import matplotlib.pyplot as plt\n",
    "import sklearn as sk\n",
    "from scipy.cluster.hierarchy import dendrogram, linkage\n",
    "from mpl_toolkits.mplot3d import Axes3D"
   ]
  },
  {
   "cell_type": "markdown",
   "metadata": {},
   "source": [
    "## Data Preparation:"
   ]
  },
  {
   "cell_type": "markdown",
   "metadata": {},
   "source": [
    "data_1 = pd.read_csv(\"dataset1.csv\")\n",
    "data_2 = pd.read_csv(\"dataset2.csv\")\n",
    "\n",
    "x_1 = data_1.values\n",
    "print(\"Features Shape Dataset 1:\", x_1.shape)\n",
    "\n",
    "x_2 = data_2.values\n",
    "print(\"Features Shape Dataset 2:\", x_2.shape)"
   ]
  },
  {
   "cell_type": "code",
   "execution_count": null,
   "metadata": {},
   "outputs": [],
   "source": [
    "#First Dataset\n",
    "plt.figure(figsize=(8, 6))\n",
    "plt.scatter(x_1[:, 0], x_1[:, 1], c='blue', alpha=0.6, edgecolors='k')\n",
    "\n",
    "plt.xlabel(\"Feature 1\")\n",
    "plt.ylabel(\"Feature 2\")\n",
    "plt.title(f\"First Dataset 2D Scatterplot\")\n",
    "plt.show()"
   ]
  },
  {
   "cell_type": "code",
   "execution_count": null,
   "metadata": {},
   "outputs": [],
   "source": [
    "#Second Dataset\n",
    "fig = plt.figure(figsize=(8, 10))\n",
    "ax = fig.add_subplot(projection='3d')\n",
    "\n",
    "ax.scatter(x_2[:,0], x_2[:,1], x_2[:,2], c='b', alpha=0.6, marker='.')\n",
    "\n",
    "ax.set_xlabel('Feature 1')\n",
    "ax.set_ylabel('Feature 2')\n",
    "ax.set_zlabel('Feature 3')\n",
    "\n",
    "ax.set_title('Second Dataset 3D Scatterplot')\n",
    "\n",
    "ax.view_init(elev=45, azim=45)\n",
    "\n",
    "plt.show()"
   ]
  },
  {
   "cell_type": "code",
   "execution_count": null,
   "metadata": {},
   "outputs": [],
   "source": [
    "fig = plt.figure(figsize=(8, 10))\n",
    "ax = fig.add_subplot(projection='3d')\n",
    "\n",
    "ax.scatter(x_2[:,0], x_2[:,1], x_2[:,2], c='b', alpha=0.6, marker='.')\n",
    "\n",
    "ax.set_xlabel('Feature 1')\n",
    "ax.set_ylabel('Feature 2')\n",
    "ax.set_zlabel('Feature 3')\n",
    "\n",
    "ax.set_title('Second Dataset 3D Scatterplot')\n",
    "\n",
    "ax.view_init(elev=0, azim=90)\n",
    "\n",
    "plt.show()"
   ]
  },
  {
   "cell_type": "markdown",
   "metadata": {},
   "source": [
    "## Loyd's Algorithm:"
   ]
  },
  {
   "cell_type": "code",
   "execution_count": null,
   "metadata": {},
   "outputs": [],
   "source": [
    "def k_means(X, k, max_iters=100, tol=1e-4, method='++initialization'):\n",
    "    \n",
    "    n_samples, n_features = X.shape\n",
    "\n",
    "    if method == '++initialization':\n",
    "        centroids = []\n",
    "        \n",
    "        # Choosing first centroid randomly\n",
    "        first_index = np.random.choice(n_samples)\n",
    "        first_centroid = X[first_index]  # shape: (n_features,)\n",
    "        centroids.append(first_centroid)\n",
    "        \n",
    "        # Computing initial squared distances from the first centroid\n",
    "        distances = np.linalg.norm(X - first_centroid, axis=1) ** 2\n",
    "        \n",
    "        # Choosing the remaining centroids\n",
    "        for _ in range(1, k):\n",
    "            probabilities = distances / distances.sum()\n",
    "            new_centroid_index = np.random.choice(n_samples, p=probabilities)\n",
    "            new_centroid = X[new_centroid_index]\n",
    "            centroids.append(new_centroid)\n",
    "            \n",
    "            # Updating distances using squared distance\n",
    "            new_distances = np.linalg.norm(X - new_centroid, axis=1) ** 2\n",
    "            distances = np.minimum(distances, new_distances)\n",
    "            \n",
    "        centroids = np.array(centroids)\n",
    "        \n",
    "    else:\n",
    "        indices = np.random.choice(n_samples, k, replace=False)\n",
    "        centroids = X[indices]\n",
    "\n",
    "    # K Iterations\n",
    "    for i in range(max_iters):\n",
    "        \n",
    "        distances = np.linalg.norm(X[:, np.newaxis] - centroids, axis=2)\n",
    "        \n",
    "        labels = np.argmin(distances, axis=1)\n",
    "        \n",
    "        new_centroids = np.array([\n",
    "            X[labels == j].mean(axis=0) if np.any(labels == j) else centroids[j]\n",
    "            for j in range(k)\n",
    "        ])\n",
    "        \n",
    "        # Convergence checking\n",
    "        if np.linalg.norm(new_centroids - centroids) < tol:\n",
    "            print(f\"Converged after {i+1} iterations.\")\n",
    "            centroids = new_centroids\n",
    "            break\n",
    "        \n",
    "        centroids = new_centroids\n",
    "    \n",
    "    return centroids, labels"
   ]
  },
  {
   "cell_type": "markdown",
   "metadata": {},
   "source": [
    "## First Dataset Training"
   ]
  },
  {
   "cell_type": "markdown",
   "metadata": {},
   "source": [
    "## K-means Training:"
   ]
  },
  {
   "cell_type": "code",
   "execution_count": null,
   "metadata": {},
   "outputs": [],
   "source": [
    "ks = [2, 4, 8, 12, 16, 20, 24, 28, 32]\n",
    "centroids_labels_uri = []\n",
    "\n",
    "for k in ks:\n",
    "    centroids, labels = k_means(x_1, k, method='uri')\n",
    "    centroids_labels_uri.append([centroids, labels])\n",
    "\n",
    "\n",
    "centroids_labels_ppinitialization = []\n",
    "\n",
    "for k in ks:\n",
    "    centroids, labels = k_means(x_1, k, method='++initialization')\n",
    "    centroids_labels_ppinitialization.append([centroids, labels])  "
   ]
  },
  {
   "cell_type": "code",
   "execution_count": null,
   "metadata": {},
   "outputs": [],
   "source": [
    "for i, k in enumerate(ks):\n",
    "        centroids, labels = centroids_labels_uri[i]\n",
    "    \n",
    "        plt.figure(figsize=(6, 5))\n",
    "        plt.scatter(x_1[:, 0], x_1[:, 1], c=labels, cmap='viridis', alpha=0.6, edgecolors='k')\n",
    "        plt.scatter(centroids[:, 0], centroids[:, 1], c='red', marker='o', s=50, label=\"Centroids\")\n",
    "    \n",
    "        plt.xlabel(\"Feature 1\")\n",
    "        plt.ylabel(\"Feature 2\")\n",
    "        plt.title(f\"Clustering with k={k}\")\n",
    "        plt.legend()\n",
    "        plt.show()"
   ]
  },
  {
   "cell_type": "code",
   "execution_count": null,
   "metadata": {},
   "outputs": [],
   "source": [
    "for i, k in enumerate(ks):\n",
    "    \n",
    "        centroids, labels = centroids_labels_ppinitialization[i]  # Extract for each k\n",
    "    \n",
    "        plt.figure(figsize=(6, 5))\n",
    "        plt.scatter(x_1[:, 0], x_1[:, 1], c=labels, cmap='viridis', alpha=0.6, edgecolors='k')\n",
    "        plt.scatter(centroids[:, 0], centroids[:, 1], c='red', marker='o', s=50, label=\"Centroids\")\n",
    "    \n",
    "        plt.xlabel(\"Feature 1\")\n",
    "        plt.ylabel(\"Feature 2\")\n",
    "        plt.title(f\"Clustering with k={k}\")\n",
    "        plt.legend()\n",
    "        plt.show()"
   ]
  },
  {
   "cell_type": "code",
   "execution_count": null,
   "metadata": {},
   "outputs": [],
   "source": [
    "def compute_cost(x, centroids, labels):\n",
    "    cost = 0\n",
    "    for i, centroid in enumerate(centroids):\n",
    "        cluster_points = x[labels == i]\n",
    "        cost += np.sum((cluster_points - centroid)**2)\n",
    "\n",
    "    print(cost)\n",
    "    return cost\n",
    "\n",
    "def plot_cost_vs_k(centroids_labels_list, x, ks, title='Cost vs. Number of Clusters'):\n",
    "\n",
    "    costs = []\n",
    "    for centroids, labels in centroids_labels_list:\n",
    "        cost = compute_cost(x, centroids, labels)\n",
    "        costs.append(cost)\n",
    "    \n",
    "    plt.figure(figsize=(8, 5))\n",
    "    plt.plot(ks, costs, marker='o', linestyle='-', color='blue')\n",
    "    plt.xlabel('Number of Clusters (k)')\n",
    "    plt.ylabel('Cost (Sum of Squared Errors)')\n",
    "    plt.title(title)\n",
    "    plt.grid(True)\n",
    "    plt.show()"
   ]
  },
  {
   "cell_type": "code",
   "execution_count": null,
   "metadata": {},
   "outputs": [],
   "source": [
    "plot_cost_vs_k(centroids_labels_uri, x_1, ks, title='Cost vs. Number of Clusters with Uniform Random Initialization')"
   ]
  },
  {
   "cell_type": "code",
   "execution_count": null,
   "metadata": {},
   "outputs": [],
   "source": [
    "plot_cost_vs_k(centroids_labels_ppinitialization, x_1, ks, title='Cost vs. Number of Clusters with ++Initialization')"
   ]
  },
  {
   "cell_type": "markdown",
   "metadata": {},
   "source": [
    "## Hierarchical Agglomerative Clustering"
   ]
  },
  {
   "cell_type": "code",
   "execution_count": null,
   "metadata": {},
   "outputs": [],
   "source": [
    "# Average linkage:\n",
    "Z_average = linkage(x_1, method='average', metric='euclidean')\n",
    "plt.figure(figsize=(10, 5))\n",
    "plt.title(\"Dendrogram (Average Linkage) via SciPy\")\n",
    "dendrogram(Z_average, truncate_mode='level', p=4)\n",
    "plt.xlabel(\"Cluster Index or (Number of Points)\")\n",
    "plt.ylabel(\"Distance\")\n",
    "plt.show()"
   ]
  },
  {
   "cell_type": "code",
   "execution_count": null,
   "metadata": {},
   "outputs": [],
   "source": [
    "# Single linkage:\n",
    "Z_single = linkage(x_1, method='single', metric='euclidean')\n",
    "plt.figure(figsize=(10, 5))\n",
    "plt.title(\"Dendrogram (Single Linkage) via SciPy\")\n",
    "dendrogram(Z_single, truncate_mode='level', p=6)\n",
    "plt.xlabel(\"Cluster Index or (Number of Points)\")\n",
    "plt.ylabel(\"Distance\")\n",
    "plt.show()\n"
   ]
  },
  {
   "cell_type": "markdown",
   "metadata": {},
   "source": []
  }
 ],
 "metadata": {
  "kernelspec": {
   "display_name": "playlist-matcher",
   "language": "python",
   "name": "python3"
  },
  "language_info": {
   "name": "python",
   "version": "3.11.7"
  }
 },
 "nbformat": 4,
 "nbformat_minor": 2
}
